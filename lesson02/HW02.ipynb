{
 "cells": [
  {
   "cell_type": "code",
   "execution_count": 14,
   "id": "e5163436-fcca-4ae4-8eaf-6755790380e5",
   "metadata": {},
   "outputs": [
    {
     "name": "stdout",
     "output_type": "stream",
     "text": [
      "Device: cpu\n"
     ]
    }
   ],
   "source": [
    "# !pip install torch torchvision torchaudio --upgrade --quiet\n",
    "\n",
    "import os, math, time, copy, random\n",
    "import torch, torch.nn as nn, torch.nn.functional as F\n",
    "from torch.utils.data import DataLoader, WeightedRandomSampler\n",
    "from torchvision import datasets, transforms, models\n",
    "from sklearn.metrics import classification_report, confusion_matrix\n",
    "import numpy as np\n",
    "\n",
    "SEED = 42\n",
    "random.seed(SEED); np.random.seed(SEED); torch.manual_seed(SEED); torch.cuda.manual_seed_all(SEED)\n",
    "device = torch.device(\"cuda\" if torch.cuda.is_available() else \"cpu\")\n",
    "print(\"Device:\", device)\n",
    "\n",
    "DATA_ROOT = \"dataset\"              # adjust if needed\n",
    "TRAIN_DIR = os.path.join(DATA_ROOT, \"train\")\n",
    "TEST_DIR  = os.path.join(DATA_ROOT, \"test\")\n",
    "SAVE_BEST = \"best_fruit_model.pt\"\n",
    "NUM_WORKERS = min(8, os.cpu_count() or 1)\n",
    "PIN_MEM = torch.cuda.is_available()\n",
    "BATCH_SIZE = 32\n",
    "IMG_SIZE = 224\n"
   ]
  },
  {
   "cell_type": "code",
   "execution_count": 15,
   "id": "b229d4dc",
   "metadata": {},
   "outputs": [
    {
     "data": {
      "text/plain": [
       "(['banana', 'blueberry', 'pear'], 3)"
      ]
     },
     "execution_count": 15,
     "metadata": {},
     "output_type": "execute_result"
    }
   ],
   "source": [
    "IMAGENET_MEAN = (0.485, 0.456, 0.406)\n",
    "IMAGENET_STD  = (0.229, 0.224, 0.225)\n",
    "\n",
    "train_tfms = transforms.Compose([\n",
    "    transforms.RandomResizedCrop(IMG_SIZE, scale=(0.6, 1.0)),\n",
    "    transforms.RandomHorizontalFlip(),\n",
    "    transforms.ColorJitter(brightness=0.2, contrast=0.2, saturation=0.2, hue=0.02),\n",
    "    transforms.RandomRotation(10),\n",
    "    transforms.ToTensor(),\n",
    "    transforms.Normalize(IMAGENET_MEAN, IMAGENET_STD),\n",
    "])\n",
    "\n",
    "test_tfms = transforms.Compose([\n",
    "    transforms.Resize(int(IMG_SIZE*1.15)),\n",
    "    transforms.CenterCrop(IMG_SIZE),\n",
    "    transforms.ToTensor(),\n",
    "    transforms.Normalize(IMAGENET_MEAN, IMAGENET_STD),\n",
    "])\n",
    "\n",
    "train_ds = datasets.ImageFolder(TRAIN_DIR, transform=train_tfms)\n",
    "test_ds  = datasets.ImageFolder(TEST_DIR,  transform=test_tfms)\n",
    "class_names = train_ds.classes\n",
    "num_classes = len(class_names)\n",
    "class_names, num_classes\n"
   ]
  },
  {
   "cell_type": "code",
   "execution_count": 16,
   "id": "be574893",
   "metadata": {},
   "outputs": [
    {
     "data": {
      "text/plain": [
       "(22, 9, array([215, 268, 219], dtype=int64))"
      ]
     },
     "execution_count": 16,
     "metadata": {},
     "output_type": "execute_result"
    }
   ],
   "source": [
    "# Compute per-sample weights for WeightedRandomSampler\n",
    "class_count = np.bincount([y for _, y in train_ds.samples])\n",
    "class_weights = 1.0 / np.maximum(class_count, 1)\n",
    "sample_weights = [class_weights[y] for _, y in train_ds.samples]\n",
    "sampler = WeightedRandomSampler(weights=sample_weights, num_samples=len(sample_weights), replacement=True)\n",
    "\n",
    "train_loader = DataLoader(train_ds, batch_size=BATCH_SIZE, sampler=sampler,\n",
    "                          num_workers=NUM_WORKERS, pin_memory=PIN_MEM)\n",
    "test_loader  = DataLoader(test_ds,  batch_size=BATCH_SIZE, shuffle=False,\n",
    "                          num_workers=NUM_WORKERS, pin_memory=PIN_MEM)\n",
    "\n",
    "len(train_loader), len(test_loader), class_count\n"
   ]
  },
  {
   "cell_type": "code",
   "execution_count": 17,
   "id": "f67585e8",
   "metadata": {},
   "outputs": [],
   "source": [
    "# Option A: EfficientNet-B0 (recommended)\n",
    "model = models.efficientnet_b0(weights=models.EfficientNet_B0_Weights.IMAGENET1K_V1)\n",
    "in_features = model.classifier[1].in_features\n",
    "model.classifier[1] = nn.Linear(in_features, num_classes)\n",
    "\n",
    "model = model.to(device)\n"
   ]
  },
  {
   "cell_type": "code",
   "execution_count": 21,
   "id": "c2b622a4",
   "metadata": {},
   "outputs": [],
   "source": [
    "EPOCHS = 5\n",
    "base_lr = 3e-4\n",
    "weight_decay = 1e-4\n",
    "\n",
    "# Label smoothing makes training more robust on small datasets\n",
    "criterion = nn.CrossEntropyLoss(label_smoothing=0.05)\n",
    "\n",
    "optimizer = torch.optim.AdamW(model.parameters(), lr=base_lr, weight_decay=weight_decay)\n",
    "\n",
    "# OneCycle schedules a higher peak LR, usually converges faster/better\n",
    "steps_per_epoch = len(train_loader)\n",
    "scheduler = torch.optim.lr_scheduler.OneCycleLR(\n",
    "    optimizer, max_lr=base_lr*10, epochs=EPOCHS, steps_per_epoch=steps_per_epoch,\n",
    "    pct_start=0.15, anneal_strategy='cos', div_factor=10.0, final_div_factor=1e4\n",
    ")\n",
    "\n",
    "scaler = torch.amp.GradScaler(enabled=\"cuda\" if torch.cuda.is_available() else \"cpu\")\n"
   ]
  },
  {
   "cell_type": "code",
   "execution_count": 25,
   "id": "f1a8f2b7",
   "metadata": {},
   "outputs": [
    {
     "name": "stdout",
     "output_type": "stream",
     "text": [
      "Epoch 01/5 \n",
      "| train loss: 51.9623%, accuracy: 86.04% \n",
      "| test loss: 86.6204%, accuracy: 82.16% \n",
      "| best test accuracy 82.1561% | 92.5s\n",
      "Epoch 02/5 \n",
      "| train loss: 40.2459%, accuracy: 92.17% \n",
      "| test loss: 70.3333%, accuracy: 85.87% \n",
      "| best test accuracy 85.8736% | 92.6s\n",
      "Epoch 03/5 \n",
      "| train loss: 32.3175%, accuracy: 93.16% \n",
      "| test loss: 41.8233%, accuracy: 92.19% \n",
      "| best test accuracy 92.1933% | 95.1s\n",
      "Epoch 04/5 \n",
      "| train loss: 25.1073%, accuracy: 97.01% \n",
      "| test loss: 40.5851%, accuracy: 90.71% \n",
      "| best test accuracy 92.1933% | 101.1s\n",
      "Epoch 05/5 \n",
      "| train loss: 21.4598%, accuracy: 99.43% \n",
      "| test loss: 40.9261%, accuracy: 90.33% \n",
      "| best test accuracy 92.1933% | 104.4s\n"
     ]
    }
   ],
   "source": [
    "def run_epoch(model, loader, train=True):\n",
    "    model.train(train)\n",
    "    running_loss, correct, total = 0.0, 0, 0\n",
    "    for images, targets in loader:\n",
    "        images, targets = images.to(device, non_blocking=True), targets.to(device, non_blocking=True)\n",
    "        with torch.amp.autocast(device_type=\"cuda\", enabled=torch.cuda.is_available()):\n",
    "            outputs = model(images)\n",
    "            loss = criterion(outputs, targets)\n",
    "        if train:\n",
    "            optimizer.zero_grad(set_to_none=True)\n",
    "            scaler.scale(loss).backward()\n",
    "            scaler.step(optimizer)\n",
    "            scaler.update()\n",
    "            scheduler.step()\n",
    "        running_loss += loss.item() * images.size(0)\n",
    "        preds = outputs.argmax(1)\n",
    "        correct += (preds == targets).sum().item()\n",
    "        total += images.size(0)\n",
    "    return running_loss/total, correct/total\n",
    "\n",
    "best_acc, best_state, patience, patience_ctr = 0.0, None, 5, 0\n",
    "\n",
    "for epoch in range(1, EPOCHS+1):\n",
    "    t0 = time.time()\n",
    "    train_loss, train_acc = run_epoch(model, train_loader, train=True)\n",
    "    test_loss,  test_acc  = run_epoch(model, test_loader,  train=False)\n",
    "\n",
    "    if test_acc > best_acc:\n",
    "        best_acc = test_acc\n",
    "        best_state = copy.deepcopy(model.state_dict())\n",
    "        torch.save({'state_dict': best_state, 'classes': class_names}, SAVE_BEST)\n",
    "        patience_ctr = 0\n",
    "    else:\n",
    "        patience_ctr += 1\n",
    "\n",
    "    dt = time.time() - t0\n",
    "    print(f\"Epoch {epoch:02d}/{EPOCHS} \\n\"\n",
    "          f\"| train loss: {train_loss * 100:.4f}%, accuracy: {train_acc * 100:.2f}% \\n\"\n",
    "          f\"| test loss: {test_loss * 100:.4f}%, accuracy: {test_acc * 100:.2f}% \\n\"\n",
    "          f\"| best test accuracy {best_acc * 100:.4f}% | {dt:.1f}s\")\n",
    "\n",
    "    if patience_ctr >= patience:\n",
    "        print(\"Early stopping.\")\n",
    "        break\n",
    "\n",
    "# Load best weights\n",
    "if best_state is not None:\n",
    "    model.load_state_dict(best_state)\n"
   ]
  },
  {
   "cell_type": "code",
   "execution_count": 26,
   "id": "3c07fbd5",
   "metadata": {},
   "outputs": [
    {
     "name": "stdout",
     "output_type": "stream",
     "text": [
      "              precision    recall  f1-score   support\n",
      "\n",
      "      banana     0.8864    0.9176    0.9017        85\n",
      "   blueberry     0.9892    0.9684    0.9787        95\n",
      "        pear     0.8864    0.8764    0.8814        89\n",
      "\n",
      "    accuracy                         0.9219       269\n",
      "   macro avg     0.9207    0.9208    0.9206       269\n",
      "weighted avg     0.9227    0.9219    0.9222       269\n",
      "\n",
      "Confusion matrix:\n",
      " [[78  0  7]\n",
      " [ 0 92  3]\n",
      " [10  1 78]]\n"
     ]
    }
   ],
   "source": [
    "# Collect predictions\n",
    "all_preds, all_targets = [], []\n",
    "model.eval()\n",
    "with torch.inference_mode():\n",
    "    for images, targets in test_loader:\n",
    "        images = images.to(device, non_blocking=True)\n",
    "        logits = model(images)\n",
    "        preds = logits.argmax(1).cpu().numpy()\n",
    "        all_preds.append(preds)\n",
    "        all_targets.append(targets.numpy())\n",
    "\n",
    "all_preds = np.concatenate(all_preds)\n",
    "all_targets = np.concatenate(all_targets)\n",
    "\n",
    "print(classification_report(all_targets, all_preds, target_names=class_names, digits=4))\n",
    "print(\"Confusion matrix:\\n\", confusion_matrix(all_targets, all_preds))\n"
   ]
  }
 ],
 "metadata": {
  "kernelspec": {
   "display_name": "Python 3",
   "language": "python",
   "name": "python3"
  },
  "language_info": {
   "codemirror_mode": {
    "name": "ipython",
    "version": 3
   },
   "file_extension": ".py",
   "mimetype": "text/x-python",
   "name": "python",
   "nbconvert_exporter": "python",
   "pygments_lexer": "ipython3",
   "version": "3.10.11"
  }
 },
 "nbformat": 4,
 "nbformat_minor": 5
}
