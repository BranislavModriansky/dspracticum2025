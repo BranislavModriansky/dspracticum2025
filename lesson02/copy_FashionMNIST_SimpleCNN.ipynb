{
  "cells": [
    {
      "cell_type": "markdown",
      "metadata": {
        "colab_type": "text",
        "id": "view-in-github"
      },
      "source": [
        "<a href=\"https://colab.research.google.com/github/simecek/dspracticum2025/blob/main/lesson02/FashionMNIST_SimpleCNN.ipynb\" target=\"_parent\"><img src=\"https://colab.research.google.com/assets/colab-badge.svg\" alt=\"Open In Colab\"/></a>"
      ]
    },
    {
      "cell_type": "markdown",
      "metadata": {
        "id": "B5j8Ih8JeWh8"
      },
      "source": [
        "Let's build a simple neural network to classify images from the FashionMNIST dataset.\n",
        "\n",
        "**1. Import Libraries**"
      ]
    },
    {
      "cell_type": "code",
      "execution_count": 11,
      "metadata": {
        "id": "MBQVdt1S-MT9"
      },
      "outputs": [],
      "source": [
        "# Cell 1 — imports & config\n",
        "import torch, torch.nn as nn, torch.nn.functional as F\n",
        "from torch.utils.data import DataLoader\n",
        "from torchvision import datasets, transforms\n",
        "from torch.optim import Adam\n",
        "from torch.optim.lr_scheduler import StepLR\n",
        "from time import time\n",
        "import numpy as np"
      ]
    },
    {
      "cell_type": "code",
      "execution_count": 12,
      "metadata": {},
      "outputs": [
        {
          "data": {
            "text/plain": [
              "device(type='cpu')"
            ]
          },
          "execution_count": 12,
          "metadata": {},
          "output_type": "execute_result"
        }
      ],
      "source": [
        "# Reproducibility\n",
        "seed = 42\n",
        "torch.manual_seed(seed); np.random.seed(seed)\n",
        "torch.backends.cudnn.deterministic = True\n",
        "torch.backends.cudnn.benchmark = False\n",
        "\n",
        "device = torch.device(\"cuda\" if torch.cuda.is_available() else \"cpu\")\n",
        "device"
      ]
    },
    {
      "cell_type": "code",
      "execution_count": 13,
      "metadata": {},
      "outputs": [
        {
          "data": {
            "text/plain": [
              "(60000, 10000)"
            ]
          },
          "execution_count": 13,
          "metadata": {},
          "output_type": "execute_result"
        }
      ],
      "source": [
        "# Cell 2 — data loaders\n",
        "mean, std = (0.5,), (0.5,)\n",
        "\n",
        "train_tf = transforms.Compose([\n",
        "    transforms.RandomHorizontalFlip(),\n",
        "    transforms.RandomRotation(10),\n",
        "    transforms.ToTensor(),\n",
        "    transforms.Normalize(mean, std),\n",
        "])\n",
        "\n",
        "test_tf = transforms.Compose([\n",
        "    transforms.ToTensor(),\n",
        "    transforms.Normalize(mean, std),\n",
        "])\n",
        "\n",
        "train_ds = datasets.FashionMNIST(root=\"./data\", train=True,  download=True, transform=train_tf)\n",
        "test_ds  = datasets.FashionMNIST(root=\"./data\", train=False, download=True, transform=test_tf)\n",
        "\n",
        "batch_size = 128\n",
        "train_loader = DataLoader(train_ds, batch_size=batch_size, shuffle=True,  num_workers=2, pin_memory=True)\n",
        "test_loader  = DataLoader(test_ds,  batch_size=batch_size, shuffle=False, num_workers=2, pin_memory=True)\n",
        "\n",
        "len(train_ds), len(test_ds)\n"
      ]
    },
    {
      "cell_type": "code",
      "execution_count": 14,
      "metadata": {},
      "outputs": [
        {
          "data": {
            "text/plain": [
              "BetterCNN(\n",
              "  (conv1): Conv2d(1, 32, kernel_size=(3, 3), stride=(1, 1), padding=(1, 1))\n",
              "  (conv2): Conv2d(32, 64, kernel_size=(3, 3), stride=(1, 1), padding=(1, 1))\n",
              "  (pool): MaxPool2d(kernel_size=2, stride=2, padding=0, dilation=1, ceil_mode=False)\n",
              "  (drop1): Dropout(p=0.25, inplace=False)\n",
              "  (fc1): Linear(in_features=3136, out_features=128, bias=True)\n",
              "  (drop2): Dropout(p=0.5, inplace=False)\n",
              "  (fc2): Linear(in_features=128, out_features=10, bias=True)\n",
              ")"
            ]
          },
          "execution_count": 14,
          "metadata": {},
          "output_type": "execute_result"
        }
      ],
      "source": [
        "# Cell 3 — model\n",
        "class BetterCNN(nn.Module):\n",
        "    def __init__(self):\n",
        "        super().__init__()\n",
        "        self.conv1 = nn.Conv2d(1, 32, kernel_size=3, padding=1)   # 28x28 -> 28x28\n",
        "        self.conv2 = nn.Conv2d(32, 64, kernel_size=3, padding=1)  # 28x28 -> 28x28\n",
        "        self.pool  = nn.MaxPool2d(2, 2)                           # 28->14, 14->7\n",
        "        self.drop1 = nn.Dropout(0.25)\n",
        "        self.fc1   = nn.Linear(64 * 7 * 7, 128)\n",
        "        self.drop2 = nn.Dropout(0.5)\n",
        "        self.fc2   = nn.Linear(128, 10)\n",
        "\n",
        "    def forward(self, x):\n",
        "        x = F.relu(self.conv1(x))\n",
        "        x = self.pool(F.relu(self.conv2(x)))  # 28->14\n",
        "        x = self.drop1(x)\n",
        "        # add a tiny extra conv block without extra params by reusing conv2? keep small: skip.\n",
        "        x = self.pool(x)                      # 14->7\n",
        "        x = torch.flatten(x, 1)\n",
        "        x = F.relu(self.fc1(x))\n",
        "        x = self.drop2(x)\n",
        "        return self.fc2(x)\n",
        "\n",
        "model = BetterCNN().to(device)\n",
        "model\n"
      ]
    },
    {
      "cell_type": "code",
      "execution_count": 15,
      "metadata": {},
      "outputs": [],
      "source": [
        "# Cell 4 — opt, sched, loss\n",
        "lr = 1e-3\n",
        "optimizer = Adam(model.parameters(), lr=lr)\n",
        "scheduler = StepLR(optimizer, step_size=5, gamma=0.5)  # halve LR every 5 epochs\n",
        "criterion = nn.CrossEntropyLoss()\n"
      ]
    },
    {
      "cell_type": "code",
      "execution_count": 16,
      "metadata": {},
      "outputs": [],
      "source": [
        "# Cell 5 — helpers\n",
        "def train_one_epoch(model, loader, optimizer, criterion, device):\n",
        "    model.train()\n",
        "    total_loss, correct, n = 0.0, 0, 0\n",
        "    for x, y in loader:\n",
        "        x, y = x.to(device, non_blocking=True), y.to(device, non_blocking=True)\n",
        "        optimizer.zero_grad(set_to_none=True)\n",
        "        logits = model(x)\n",
        "        loss = criterion(logits, y)\n",
        "        loss.backward()\n",
        "        optimizer.step()\n",
        "\n",
        "        total_loss += loss.item() * y.size(0)\n",
        "        correct += (logits.argmax(1) == y).sum().item()\n",
        "        n += y.size(0)\n",
        "    return total_loss / n, correct / n\n",
        "\n",
        "@torch.no_grad()\n",
        "def evaluate(model, loader, criterion, device):\n",
        "    model.eval()\n",
        "    total_loss, correct, n = 0.0, 0, 0\n",
        "    for x, y in loader:\n",
        "        x, y = x.to(device, non_blocking=True), y.to(device, non_blocking=True)\n",
        "        logits = model(x)\n",
        "        loss = criterion(logits, y)\n",
        "        total_loss += loss.item() * y.size(0)\n",
        "        correct += (logits.argmax(1) == y).sum().item()\n",
        "        n += y.size(0)\n",
        "    return total_loss / n, correct / n\n"
      ]
    },
    {
      "cell_type": "code",
      "execution_count": null,
      "metadata": {},
      "outputs": [
        {
          "name": "stdout",
          "output_type": "stream",
          "text": [
            "Epoch 01 | train loss: 0.3697, accuracy: 86.82% | test loss: 0.2808, accuracy: 89.98%\n",
            "Epoch 02 | train loss: 0.3501, accuracy: 87.59% | test loss: 0.2706, accuracy: 90.04%\n",
            "Epoch 03 | train loss: 0.3197, accuracy: 88.63% | test loss: 0.2577, accuracy: 90.69%\n",
            "Epoch 04 | train loss: 0.3124, accuracy: 88.86% | test loss: 0.2533, accuracy: 90.45%\n",
            "Epoch 05 | train loss: 0.3071, accuracy: 89.07% | test loss: 0.2494, accuracy: 90.57%\n",
            "Early stopping.\n",
            "Done in 551.5s. Best test acc: 0.907\n"
          ]
        }
      ],
      "source": [
        "# Cell 6 — training loop\n",
        "epochs = 3\n",
        "best_acc = 0.0\n",
        "patience, wait = 2, 0\n",
        "best_state = None\n",
        "start = time()\n",
        "\n",
        "for epoch in range(1, epochs + 1):\n",
        "    tr_loss, tr_acc = train_one_epoch(model, train_loader, optimizer, criterion, device)\n",
        "    va_loss, va_acc = evaluate(model, test_loader, criterion, device)\n",
        "    scheduler.step()\n",
        "\n",
        "    if va_acc > best_acc:\n",
        "        best_acc, wait = va_acc, 0\n",
        "        best_state = {k: v.cpu() for k, v in model.state_dict().items()}\n",
        "    else:\n",
        "        wait += 1\n",
        "\n",
        "    print(f\"Epoch {epoch:02d} | train loss: {tr_loss:.4f}, accuracy: {tr_acc * 100:.2f}% \"\n",
        "          f\"| test loss: {va_loss:.4f}, accuracy: {va_acc * 100:.2f}%\")\n",
        "\n",
        "    if wait >= patience:\n",
        "        print(\"Early stopping.\")\n",
        "        break\n",
        "\n",
        "print(f\"Done in {(time()-start):.1f}s. Best test acc: {best_acc:.3f}\")\n",
        "if best_state is not None:\n",
        "    model.load_state_dict({k: v.to(device) for k, v in best_state.items()})\n"
      ]
    },
    {
      "cell_type": "code",
      "execution_count": null,
      "metadata": {},
      "outputs": [
        {
          "name": "stderr",
          "output_type": "stream",
          "text": [
            "C:\\Users\\modri\\AppData\\Local\\Packages\\PythonSoftwareFoundation.Python.3.10_qbz5n2kfra8p0\\LocalCache\\local-packages\\Python310\\site-packages\\torch\\utils\\data\\dataloader.py:666: UserWarning: 'pin_memory' argument is set as true but no accelerator is found, then device pinned memory won't be used.\n",
            "  warnings.warn(warn_msg)\n"
          ]
        },
        {
          "name": "stdout",
          "output_type": "stream",
          "text": [
            "Final test\n",
            "loss: 0.3133\n",
            "accuracy: 88.63%\n"
          ]
        }
      ],
      "source": [
        "# Cell 7 — final metrics\n",
        "test_loss, test_acc = evaluate(model, test_loader, criterion, device)\n",
        "print(f\"Final test:\\n\"\n",
        "      f\"loss: {test_loss:.4f}\\n\"\n",
        "      f\"accuracy: {test_acc * 100:.2f}%\")\n"
      ]
    }
  ],
  "metadata": {
    "accelerator": "GPU",
    "colab": {
      "authorship_tag": "ABX9TyMAicNik2qr6By+Z/Y387jU",
      "gpuType": "T4",
      "include_colab_link": true,
      "provenance": []
    },
    "kernelspec": {
      "display_name": "Python 3",
      "name": "python3"
    },
    "language_info": {
      "codemirror_mode": {
        "name": "ipython",
        "version": 3
      },
      "file_extension": ".py",
      "mimetype": "text/x-python",
      "name": "python",
      "nbconvert_exporter": "python",
      "pygments_lexer": "ipython3",
      "version": "3.10.11"
    }
  },
  "nbformat": 4,
  "nbformat_minor": 0
}
